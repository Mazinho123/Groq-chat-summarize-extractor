{
  "cells": [
    {
      "cell_type": "markdown",
      "metadata": {
        "id": "Jhz3gYuQvikO"
      },
      "source": [
        "#  Groq API Assignment\n",
        "\n",
        "This notebook contains implementation for:\n",
        "- **Task 1:** Manage conversation history and periodic summarization\n",
        "- **Task 2:** Extract structured info from chats using OpenAI-compatible Groq API function calling\n",
        "\n",
        "---"
      ]
    },
    {
      "cell_type": "code",
      "execution_count": 16,
      "metadata": {
        "colab": {
          "base_uri": "https://localhost:8080/",
          "height": 564
        },
        "id": "n8EYhuOCvikP",
        "outputId": "4e38e84a-bdcf-4924-b953-098f38dc462d"
      },
      "outputs": [
        {
          "output_type": "stream",
          "name": "stdout",
          "text": [
            "Requirement already satisfied: openai in /usr/local/lib/python3.12/dist-packages (1.106.1)\n",
            "Collecting openai\n",
            "  Downloading openai-1.107.2-py3-none-any.whl.metadata (29 kB)\n",
            "Requirement already satisfied: anyio<5,>=3.5.0 in /usr/local/lib/python3.12/dist-packages (from openai) (4.10.0)\n",
            "Requirement already satisfied: distro<2,>=1.7.0 in /usr/local/lib/python3.12/dist-packages (from openai) (1.9.0)\n",
            "Requirement already satisfied: httpx<1,>=0.23.0 in /usr/local/lib/python3.12/dist-packages (from openai) (0.28.1)\n",
            "Requirement already satisfied: jiter<1,>=0.4.0 in /usr/local/lib/python3.12/dist-packages (from openai) (0.10.0)\n",
            "Requirement already satisfied: pydantic<3,>=1.9.0 in /usr/local/lib/python3.12/dist-packages (from openai) (2.11.7)\n",
            "Requirement already satisfied: sniffio in /usr/local/lib/python3.12/dist-packages (from openai) (1.3.1)\n",
            "Requirement already satisfied: tqdm>4 in /usr/local/lib/python3.12/dist-packages (from openai) (4.67.1)\n",
            "Requirement already satisfied: typing-extensions<5,>=4.11 in /usr/local/lib/python3.12/dist-packages (from openai) (4.15.0)\n",
            "Requirement already satisfied: idna>=2.8 in /usr/local/lib/python3.12/dist-packages (from anyio<5,>=3.5.0->openai) (3.10)\n",
            "Requirement already satisfied: certifi in /usr/local/lib/python3.12/dist-packages (from httpx<1,>=0.23.0->openai) (2025.8.3)\n",
            "Requirement already satisfied: httpcore==1.* in /usr/local/lib/python3.12/dist-packages (from httpx<1,>=0.23.0->openai) (1.0.9)\n",
            "Requirement already satisfied: h11>=0.16 in /usr/local/lib/python3.12/dist-packages (from httpcore==1.*->httpx<1,>=0.23.0->openai) (0.16.0)\n",
            "Requirement already satisfied: annotated-types>=0.6.0 in /usr/local/lib/python3.12/dist-packages (from pydantic<3,>=1.9.0->openai) (0.7.0)\n",
            "Requirement already satisfied: pydantic-core==2.33.2 in /usr/local/lib/python3.12/dist-packages (from pydantic<3,>=1.9.0->openai) (2.33.2)\n",
            "Requirement already satisfied: typing-inspection>=0.4.0 in /usr/local/lib/python3.12/dist-packages (from pydantic<3,>=1.9.0->openai) (0.4.1)\n",
            "Downloading openai-1.107.2-py3-none-any.whl (946 kB)\n",
            "\u001b[2K   \u001b[90m━━━━━━━━━━━━━━━━━━━━━━━━━━━━━━━━━━━━━━━━\u001b[0m \u001b[32m946.9/946.9 kB\u001b[0m \u001b[31m14.8 MB/s\u001b[0m eta \u001b[36m0:00:00\u001b[0m\n",
            "\u001b[?25hInstalling collected packages: openai\n",
            "  Attempting uninstall: openai\n",
            "    Found existing installation: openai 1.106.1\n",
            "    Uninstalling openai-1.106.1:\n",
            "      Successfully uninstalled openai-1.106.1\n",
            "Successfully installed openai-1.107.2\n"
          ]
        },
        {
          "output_type": "display_data",
          "data": {
            "application/vnd.colab-display-data+json": {
              "pip_warning": {
                "packages": [
                  "openai"
                ]
              },
              "id": "54a9cf180f684967b2c6d215b8de9afb"
            }
          },
          "metadata": {}
        }
      ],
      "source": [
        "\n",
        "!pip install --upgrade openai\n",
        "\n"
      ]
    },
    {
      "cell_type": "code",
      "execution_count": 16,
      "metadata": {
        "id": "rAP3ZBQHvikQ"
      },
      "outputs": [],
      "source": [
        "from openai import OpenAI\n",
        "import json\n",
        "\n",
        "# Initialize Groq-compatible OpenAI client\n",
        "client = OpenAI(\n",
        "    api_key=\"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\",\n",
        "    base_url=\"https://api.groq.com/openai/v1\"\n",
        ")\n",
        "\n",
        "# Use two different models\n",
        "MODEL_CHAT = \"llama-3.1-8b-instant\"\n",
        "MODEL_FUNCTION = \"llama-3.3-70b-versatile\"\n",
        "\n"
      ]
    },
    {
      "cell_type": "code",
      "execution_count": 12,
      "metadata": {
        "id": "C2YTlRRbvikR"
      },
      "outputs": [],
      "source": [
        "#Task-1\n",
        "conversation = []\n",
        "conversation_summary = []\n",
        "summary_interval = 3\n",
        "summary_counter = 0\n",
        "\n",
        "def add_message(role, content):\n",
        "    conversation.append({\"role\": role, \"content\": content})\n",
        "\n",
        "def truncate_by_turns(history, n):\n",
        "    return history[-n:]\n",
        "\n",
        "def truncate_by_characters(history, max_chars):\n",
        "    truncated, total_chars = [], 0\n",
        "    for msg in reversed(history):\n",
        "        total_chars += len(msg['content'])\n",
        "        if total_chars > max_chars:\n",
        "            break\n",
        "        truncated.insert(0, msg)\n",
        "    return truncated\n",
        "\n",
        "def summarize(history):\n",
        "    messages = [{\"role\": \"system\", \"content\": \"Summarize the following chat briefly.\"}] + history\n",
        "    response = client.chat.completions.create(\n",
        "        model=MODEL_CHAT,\n",
        "        messages=messages\n",
        "    )\n",
        "    return response.choices[0].message.content\n",
        "\n",
        "def update_conversation(role, content):\n",
        "    global summary_counter\n",
        "    add_message(role, content)\n",
        "    summary_counter += 1\n",
        "    if summary_counter >= summary_interval:\n",
        "        summary = summarize(conversation)\n",
        "        conversation_summary.append({\"summary\": summary})\n",
        "        summary_counter = 0\n"
      ]
    },
    {
      "cell_type": "code",
      "execution_count": 13,
      "metadata": {
        "colab": {
          "base_uri": "https://localhost:8080/"
        },
        "id": "n7B_eM3hvikR",
        "outputId": "9b02c289-5927-4272-9973-1f225cca7968"
      },
      "outputs": [
        {
          "output_type": "stream",
          "name": "stdout",
          "text": [
            " Full Conversation:\n",
            "[\n",
            "  {\n",
            "    \"role\": \"user\",\n",
            "    \"content\": \"Hi, I\\u2019m Devroop. I live in Bangalore.\"\n",
            "  },\n",
            "  {\n",
            "    \"role\": \"assistant\",\n",
            "    \"content\": \"Nice to meet you, Devroop! How can I help you?\"\n",
            "  },\n",
            "  {\n",
            "    \"role\": \"user\",\n",
            "    \"content\": \"I\\u2019m 21 years old. You can email me at dasguptadevroop@gmail.com or call 9876543210.\"\n",
            "  },\n",
            "  {\n",
            "    \"role\": \"assistant\",\n",
            "    \"content\": \"Thanks! Would you like to know about our services?\"\n",
            "  },\n",
            "  {\n",
            "    \"role\": \"user\",\n",
            "    \"content\": \"Yes, tell me about premium plans.\"\n",
            "  },\n",
            "  {\n",
            "    \"role\": \"assistant\",\n",
            "    \"content\": \"Premium includes all features plus 24/7 support.\"\n",
            "  }\n",
            "]\n",
            "\n",
            " Truncated (last 4 messages):\n",
            "[\n",
            "  {\n",
            "    \"role\": \"user\",\n",
            "    \"content\": \"I\\u2019m 21 years old. You can email me at dasguptadevroop@gmail.com or call 9876543210.\"\n",
            "  },\n",
            "  {\n",
            "    \"role\": \"assistant\",\n",
            "    \"content\": \"Thanks! Would you like to know about our services?\"\n",
            "  },\n",
            "  {\n",
            "    \"role\": \"user\",\n",
            "    \"content\": \"Yes, tell me about premium plans.\"\n",
            "  },\n",
            "  {\n",
            "    \"role\": \"assistant\",\n",
            "    \"content\": \"Premium includes all features plus 24/7 support.\"\n",
            "  }\n",
            "]\n",
            "\n",
            " Truncated (max 150 characters):\n",
            "[\n",
            "  {\n",
            "    \"role\": \"assistant\",\n",
            "    \"content\": \"Thanks! Would you like to know about our services?\"\n",
            "  },\n",
            "  {\n",
            "    \"role\": \"user\",\n",
            "    \"content\": \"Yes, tell me about premium plans.\"\n",
            "  },\n",
            "  {\n",
            "    \"role\": \"assistant\",\n",
            "    \"content\": \"Premium includes all features plus 24/7 support.\"\n",
            "  }\n",
            "]\n",
            "\n",
            " Summaries:\n",
            "[\n",
            "  {\n",
            "    \"summary\": \"However, I'm a large language model, I don't have the ability to email or call. I'm here to provide information and help via text-based conversations. If you'd like, we can continue discussing your queries or interests.\"\n",
            "  },\n",
            "  {\n",
            "    \"summary\": \" If you're interested, you can send an email to dasguptadevroop@gmail.com or I can give you more information over the phone at 9876543210.\"\n",
            "  }\n",
            "]\n"
          ]
        }
      ],
      "source": [
        "# Test Task 1\n",
        "update_conversation(\"user\", \"Hi, I’m Devroop. I live in Bangalore.\")\n",
        "update_conversation(\"assistant\", \"Nice to meet you, Devroop! How can I help you?\")\n",
        "update_conversation(\"user\", \"I’m 21 years old. You can email me at dasguptadevroop@gmail.com or call 9876543210.\")\n",
        "update_conversation(\"assistant\", \"Thanks! Would you like to know about our services?\")\n",
        "update_conversation(\"user\", \"Yes, tell me about premium plans.\")\n",
        "update_conversation(\"assistant\", \"Premium includes all features plus 24/7 support.\")\n",
        "\n",
        "print(\" Full Conversation:\")\n",
        "print(json.dumps(conversation, indent=2))\n",
        "print(\"\\n Truncated (last 4 messages):\")\n",
        "print(json.dumps(truncate_by_turns(conversation, 4), indent=2))\n",
        "print(\"\\n Truncated (max 150 characters):\")\n",
        "print(json.dumps(truncate_by_characters(conversation, 150), indent=2))\n",
        "print(\"\\n Summaries:\")\n",
        "print(json.dumps(conversation_summary, indent=2))\n",
        "\n"
      ]
    },
    {
      "cell_type": "markdown",
      "source": [],
      "metadata": {
        "id": "PAu35Udy3SPR"
      }
    },
    {
      "cell_type": "code",
      "execution_count": 14,
      "metadata": {
        "id": "RVuGwuAfvikR"
      },
      "outputs": [],
      "source": [
        "function_schema = {\n",
        "    \"name\": \"extract_user_info\",\n",
        "    \"description\": \"Extracts user details from chat\",\n",
        "    \"parameters\": {\n",
        "        \"type\": \"object\",\n",
        "        \"properties\": {\n",
        "            \"name\": {\"type\": \"string\"},\n",
        "            \"email\": {\"type\": \"string\"},\n",
        "            \"phone\": {\"type\": \"string\"},\n",
        "            \"location\": {\"type\": \"string\"},\n",
        "            \"age\": {\"type\": \"integer\"}\n",
        "        },\n",
        "        \"required\": [\"name\", \"email\", \"phone\", \"location\", \"age\"]\n",
        "    }\n",
        "}\n",
        "\n",
        "def extract_info(chat):\n",
        "    response = client.chat.completions.create(\n",
        "        model=MODEL_FUNCTION,\n",
        "        messages=[{\"role\": \"user\", \"content\": chat}],\n",
        "        tools=[{\"type\": \"function\", \"function\": function_schema}],\n",
        "        tool_choice=\"auto\"\n",
        "    )\n",
        "    # function calling output\n",
        "    return json.loads(response.choices[0].message.tool_calls[0].function.arguments)"
      ]
    },
    {
      "cell_type": "code",
      "source": [
        "samples = [\n",
        "    \"Hi, I’m Devroop. I live in Bangalore. I’m 21 years old. Email: dasguptadevroop@gmail.com. Phone: 9876543210.\",\n",
        "    \"Hey! I’m Rhea from Mumbai, 25 years old. Email me at rhea123@gmail.com. Phone is 8765432109.\",\n",
        "    \"This is Ajay. I'm 30, living in Delhi. Email: ajay@xyz.com, Call me at 7654321987.\"\n",
        "]\n",
        "\n",
        "for chat in samples:\n",
        "    print(\"\\n Extracted Info:\")\n",
        "    print(extract_info(chat))\n"
      ],
      "metadata": {
        "colab": {
          "base_uri": "https://localhost:8080/"
        },
        "id": "gr2LCecmy2RP",
        "outputId": "7027f221-4a8e-4c33-b9f1-0e8cb400ef74"
      },
      "execution_count": 17,
      "outputs": [
        {
          "output_type": "stream",
          "name": "stdout",
          "text": [
            "\n",
            " Extracted Info:\n",
            "{'age': 21, 'email': 'dasguptadevroop@gmail.com', 'location': 'Bangalore', 'name': 'Devroop', 'phone': '9876543210'}\n",
            "\n",
            " Extracted Info:\n",
            "{'age': 25, 'email': 'rhea123@gmail.com', 'location': 'Mumbai', 'name': 'Rhea', 'phone': '8765432109'}\n",
            "\n",
            " Extracted Info:\n",
            "{'age': 30, 'email': 'ajay@xyz.com', 'location': 'Delhi', 'name': 'Ajay', 'phone': '7654321987'}\n"
          ]
        }
      ]
    },
    {
      "cell_type": "code",
      "source": [],
      "metadata": {
        "id": "5W3fUB8q3BcK"
      },
      "execution_count": null,
      "outputs": []
    }
  ],
  "metadata": {
    "colab": {
      "provenance": []
    },
    "kernelspec": {
      "name": "python3",
      "display_name": "Python 3"
    },
    "language_info": {
      "name": "python",
      "version": "3.10"
    }
  },
  "nbformat": 4,
  "nbformat_minor": 0
}